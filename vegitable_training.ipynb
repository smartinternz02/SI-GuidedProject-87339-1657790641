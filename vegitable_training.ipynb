{
 "cells": [
  {
   "cell_type": "code",
   "execution_count": 1,
   "id": "8252769a",
   "metadata": {},
   "outputs": [],
   "source": [
    "from keras.preprocessing.image import ImageDataGenerator"
   ]
  },
  {
   "cell_type": "code",
   "execution_count": 2,
   "id": "cadc7fdf",
   "metadata": {},
   "outputs": [],
   "source": [
    "train_datagen=ImageDataGenerator(rescale=1./255,shear_range=0.2,zoom_range=0.2,horizontal_flip= True)"
   ]
  },
  {
   "cell_type": "code",
   "execution_count": 3,
   "id": "5ae79ee7",
   "metadata": {},
   "outputs": [],
   "source": [
    "test_datagen=ImageDataGenerator(rescale=1)"
   ]
  },
  {
   "cell_type": "code",
   "execution_count": 4,
   "id": "abed7547",
   "metadata": {},
   "outputs": [
    {
     "data": {
      "text/plain": [
       "'C:\\\\Users\\\\sujit'"
      ]
     },
     "execution_count": 4,
     "metadata": {},
     "output_type": "execute_result"
    }
   ],
   "source": [
    "pwd"
   ]
  },
  {
   "cell_type": "code",
   "execution_count": 5,
   "id": "33eff51c",
   "metadata": {},
   "outputs": [
    {
     "name": "stdout",
     "output_type": "stream",
     "text": [
      "D:\\\n"
     ]
    }
   ],
   "source": [
    "%cd D:"
   ]
  },
  {
   "cell_type": "code",
   "execution_count": 6,
   "id": "129dbc7b",
   "metadata": {},
   "outputs": [
    {
     "name": "stdout",
     "output_type": "stream",
     "text": [
      "D:\\Plant Disease\n"
     ]
    }
   ],
   "source": [
    "%cd Plant Disease"
   ]
  },
  {
   "cell_type": "code",
   "execution_count": 7,
   "id": "f01c7ee9",
   "metadata": {},
   "outputs": [
    {
     "data": {
      "text/plain": [
       "'D:\\\\Plant Disease'"
      ]
     },
     "execution_count": 7,
     "metadata": {},
     "output_type": "execute_result"
    }
   ],
   "source": [
    "pwd"
   ]
  },
  {
   "cell_type": "code",
   "execution_count": 8,
   "id": "22f10291",
   "metadata": {},
   "outputs": [
    {
     "name": "stdout",
     "output_type": "stream",
     "text": [
      "Found 11386 images belonging to 9 classes.\n"
     ]
    }
   ],
   "source": [
    "x_train = train_datagen.flow_from_directory(r\"D:\\\\Plant Disease\\Dataset Plant Disease\\Veg-dataset\\train_set\",target_size=(128,128),batch_size=32,class_mode='categorical')"
   ]
  },
  {
   "cell_type": "code",
   "execution_count": 9,
   "id": "c7c86846",
   "metadata": {},
   "outputs": [
    {
     "name": "stdout",
     "output_type": "stream",
     "text": [
      "Found 3416 images belonging to 9 classes.\n"
     ]
    }
   ],
   "source": [
    "x_test = test_datagen.flow_from_directory(r\"D:\\\\Plant Disease\\Dataset Plant Disease\\Veg-dataset\\test_set\",target_size=(128,128),batch_size=32,class_mode='categorical')"
   ]
  },
  {
   "cell_type": "code",
   "execution_count": 10,
   "id": "b56529b2",
   "metadata": {},
   "outputs": [
    {
     "data": {
      "text/plain": [
       "{'Pepper,_bell___Bacterial_spot': 0,\n",
       " 'Pepper,_bell___healthy': 1,\n",
       " 'Potato___Early_blight': 2,\n",
       " 'Potato___Late_blight': 3,\n",
       " 'Potato___healthy': 4,\n",
       " 'Tomato___Bacterial_spot': 5,\n",
       " 'Tomato___Late_blight': 6,\n",
       " 'Tomato___Leaf_Mold': 7,\n",
       " 'Tomato___Septoria_leaf_spot': 8}"
      ]
     },
     "execution_count": 10,
     "metadata": {},
     "output_type": "execute_result"
    }
   ],
   "source": [
    "x_train.class_indices"
   ]
  },
  {
   "cell_type": "code",
   "execution_count": 11,
   "id": "6262a9cc",
   "metadata": {},
   "outputs": [],
   "source": [
    "from keras.models import Sequential\n",
    "from keras.layers import Dense\n",
    "from keras.layers import Convolution2D\n",
    "from keras.layers import MaxPooling2D\n",
    "from keras.layers import Flatten"
   ]
  },
  {
   "cell_type": "code",
   "execution_count": 12,
   "id": "553d272a",
   "metadata": {},
   "outputs": [],
   "source": [
    "model=Sequential()"
   ]
  },
  {
   "cell_type": "code",
   "execution_count": 13,
   "id": "d378341c",
   "metadata": {},
   "outputs": [],
   "source": [
    "model.add(Convolution2D(32,(3,3),input_shape=(128,128,3),activation='relu'))"
   ]
  },
  {
   "cell_type": "code",
   "execution_count": 14,
   "id": "2cff6203",
   "metadata": {},
   "outputs": [],
   "source": [
    "model.add(MaxPooling2D(pool_size=(2,2)))"
   ]
  },
  {
   "cell_type": "code",
   "execution_count": 15,
   "id": "32ba5c74",
   "metadata": {},
   "outputs": [],
   "source": [
    "model.add(Flatten())"
   ]
  },
  {
   "cell_type": "code",
   "execution_count": 16,
   "id": "379b0055",
   "metadata": {},
   "outputs": [
    {
     "name": "stdout",
     "output_type": "stream",
     "text": [
      "Model: \"sequential\"\n",
      "_________________________________________________________________\n",
      " Layer (type)                Output Shape              Param #   \n",
      "=================================================================\n",
      " conv2d (Conv2D)             (None, 126, 126, 32)      896       \n",
      "                                                                 \n",
      " max_pooling2d (MaxPooling2D  (None, 63, 63, 32)       0         \n",
      " )                                                               \n",
      "                                                                 \n",
      " flatten (Flatten)           (None, 127008)            0         \n",
      "                                                                 \n",
      "=================================================================\n",
      "Total params: 896\n",
      "Trainable params: 896\n",
      "Non-trainable params: 0\n",
      "_________________________________________________________________\n"
     ]
    }
   ],
   "source": [
    "model.summary()"
   ]
  },
  {
   "cell_type": "code",
   "execution_count": 17,
   "id": "751488e7",
   "metadata": {},
   "outputs": [],
   "source": [
    "model.add(Dense(300,activation='relu'))"
   ]
  },
  {
   "cell_type": "code",
   "execution_count": 18,
   "id": "cf31d7bd",
   "metadata": {},
   "outputs": [],
   "source": [
    "model.add(Dense(150,activation='relu'))"
   ]
  },
  {
   "cell_type": "code",
   "execution_count": 19,
   "id": "53dac88f",
   "metadata": {},
   "outputs": [],
   "source": [
    "model.add(Dense(75,activation='relu'))"
   ]
  },
  {
   "cell_type": "code",
   "execution_count": 20,
   "id": "d19beea5",
   "metadata": {},
   "outputs": [],
   "source": [
    "model.add(Dense(9,activation='softmax'))"
   ]
  },
  {
   "cell_type": "code",
   "execution_count": 21,
   "id": "08768123",
   "metadata": {},
   "outputs": [],
   "source": [
    "model.compile(loss='categorical_crossentropy',optimizer='adam',metrics=['accuracy'])"
   ]
  },
  {
   "cell_type": "code",
   "execution_count": 22,
   "id": "8d2b989f",
   "metadata": {},
   "outputs": [
    {
     "data": {
      "text/plain": [
       "356"
      ]
     },
     "execution_count": 22,
     "metadata": {},
     "output_type": "execute_result"
    }
   ],
   "source": [
    "len(x_train)"
   ]
  },
  {
   "cell_type": "code",
   "execution_count": 23,
   "id": "3b18c40c",
   "metadata": {},
   "outputs": [
    {
     "name": "stderr",
     "output_type": "stream",
     "text": [
      "C:\\Users\\sujit\\AppData\\Local\\Temp\\ipykernel_12972\\174847055.py:1: UserWarning: `Model.fit_generator` is deprecated and will be removed in a future version. Please use `Model.fit`, which supports generators.\n",
      "  model.fit_generator(x_train,steps_per_epoch=89,epochs=20,validation_data=x_test,validation_steps=27)\n"
     ]
    },
    {
     "name": "stdout",
     "output_type": "stream",
     "text": [
      "Epoch 1/20\n",
      "89/89 [==============================] - 497s 6s/step - loss: 2.2365 - accuracy: 0.3725 - val_loss: 247.4011 - val_accuracy: 0.5046\n",
      "Epoch 2/20\n",
      "89/89 [==============================] - 230s 3s/step - loss: 1.0967 - accuracy: 0.6050 - val_loss: 617.5051 - val_accuracy: 0.3542\n",
      "Epoch 3/20\n",
      "89/89 [==============================] - 161s 2s/step - loss: 0.8314 - accuracy: 0.7082 - val_loss: 663.0453 - val_accuracy: 0.3519\n",
      "Epoch 4/20\n",
      "89/89 [==============================] - 147s 2s/step - loss: 0.7095 - accuracy: 0.7535 - val_loss: 1039.4281 - val_accuracy: 0.2975\n",
      "Epoch 5/20\n",
      "89/89 [==============================] - 99s 1s/step - loss: 0.6585 - accuracy: 0.7692 - val_loss: 1054.9552 - val_accuracy: 0.3380\n",
      "Epoch 6/20\n",
      "89/89 [==============================] - 91s 1s/step - loss: 0.5850 - accuracy: 0.7904 - val_loss: 1073.5128 - val_accuracy: 0.3507\n",
      "Epoch 7/20\n",
      "89/89 [==============================] - 98s 1s/step - loss: 0.5010 - accuracy: 0.8269 - val_loss: 1610.1459 - val_accuracy: 0.2755\n",
      "Epoch 8/20\n",
      "89/89 [==============================] - 86s 964ms/step - loss: 0.4649 - accuracy: 0.8325 - val_loss: 1917.1694 - val_accuracy: 0.2812\n",
      "Epoch 9/20\n",
      "89/89 [==============================] - 82s 921ms/step - loss: 0.4730 - accuracy: 0.8353 - val_loss: 1594.4165 - val_accuracy: 0.2847\n",
      "Epoch 10/20\n",
      "89/89 [==============================] - 80s 891ms/step - loss: 0.4440 - accuracy: 0.8395 - val_loss: 1808.0414 - val_accuracy: 0.3090\n",
      "Epoch 11/20\n",
      "89/89 [==============================] - 80s 894ms/step - loss: 0.3930 - accuracy: 0.8649 - val_loss: 1844.2604 - val_accuracy: 0.2859\n",
      "Epoch 12/20\n",
      "89/89 [==============================] - 77s 864ms/step - loss: 0.3824 - accuracy: 0.8662 - val_loss: 1510.7247 - val_accuracy: 0.2766\n",
      "Epoch 13/20\n",
      "89/89 [==============================] - 61s 690ms/step - loss: 0.3610 - accuracy: 0.8776 - val_loss: 1473.4365 - val_accuracy: 0.3472\n",
      "Epoch 14/20\n",
      "89/89 [==============================] - 68s 769ms/step - loss: 0.3374 - accuracy: 0.8825 - val_loss: 1855.8846 - val_accuracy: 0.2755\n",
      "Epoch 15/20\n",
      "89/89 [==============================] - 64s 722ms/step - loss: 0.3355 - accuracy: 0.8814 - val_loss: 1874.6462 - val_accuracy: 0.3287\n",
      "Epoch 16/20\n",
      "89/89 [==============================] - 65s 731ms/step - loss: 0.3534 - accuracy: 0.8824 - val_loss: 1234.3036 - val_accuracy: 0.3796\n",
      "Epoch 17/20\n",
      "89/89 [==============================] - 87s 981ms/step - loss: 0.2776 - accuracy: 0.9003 - val_loss: 1713.8635 - val_accuracy: 0.3299\n",
      "Epoch 18/20\n",
      "89/89 [==============================] - 68s 763ms/step - loss: 0.3332 - accuracy: 0.8758 - val_loss: 1674.5786 - val_accuracy: 0.3310\n",
      "Epoch 19/20\n",
      "89/89 [==============================] - 79s 892ms/step - loss: 0.3736 - accuracy: 0.8715 - val_loss: 1288.8673 - val_accuracy: 0.3588\n",
      "Epoch 20/20\n",
      "89/89 [==============================] - 63s 710ms/step - loss: 0.2881 - accuracy: 0.9031 - val_loss: 1397.7336 - val_accuracy: 0.3299\n"
     ]
    },
    {
     "data": {
      "text/plain": [
       "<keras.callbacks.History at 0x235bf114eb0>"
      ]
     },
     "execution_count": 23,
     "metadata": {},
     "output_type": "execute_result"
    }
   ],
   "source": [
    "model.fit_generator(x_train,steps_per_epoch=89,epochs=20,validation_data=x_test,validation_steps=27)"
   ]
  },
  {
   "cell_type": "code",
   "execution_count": 24,
   "id": "70a686e4",
   "metadata": {},
   "outputs": [
    {
     "name": "stdout",
     "output_type": "stream",
     "text": [
      " Volume in drive D is New Volume\n",
      " Volume Serial Number is EC91-2482\n",
      "\n",
      " Directory of D:\\Plant Disease\n",
      "\n",
      "19-07-2022  11:41    <DIR>          .\n",
      "19-07-2022  11:41    <DIR>          ..\n",
      "18-07-2022  18:35    <DIR>          Dataset Plant Disease\n",
      "18-07-2022  18:03    <DIR>          flask\n",
      "19-07-2022  11:17        61,030,792 fruit.h5\n",
      "19-07-2022  09:38    <DIR>          Ibm training files\n",
      "19-07-2022  11:41           215,828 my notes.docx\n",
      "18-07-2022  18:04    <DIR>          training files\n",
      "               2 File(s)     61,246,620 bytes\n",
      "               6 Dir(s)  436,710,498,304 bytes free\n"
     ]
    }
   ],
   "source": [
    "ls"
   ]
  },
  {
   "cell_type": "code",
   "execution_count": 25,
   "id": "a1143a0e",
   "metadata": {},
   "outputs": [],
   "source": [
    "model.save(\"vegetable.h5\")"
   ]
  },
  {
   "cell_type": "code",
   "execution_count": 26,
   "id": "7b33de0a",
   "metadata": {},
   "outputs": [
    {
     "name": "stdout",
     "output_type": "stream",
     "text": [
      "Model: \"sequential\"\n",
      "_________________________________________________________________\n",
      " Layer (type)                Output Shape              Param #   \n",
      "=================================================================\n",
      " conv2d (Conv2D)             (None, 126, 126, 32)      896       \n",
      "                                                                 \n",
      " max_pooling2d (MaxPooling2D  (None, 63, 63, 32)       0         \n",
      " )                                                               \n",
      "                                                                 \n",
      " flatten (Flatten)           (None, 127008)            0         \n",
      "                                                                 \n",
      " dense (Dense)               (None, 300)               38102700  \n",
      "                                                                 \n",
      " dense_1 (Dense)             (None, 150)               45150     \n",
      "                                                                 \n",
      " dense_2 (Dense)             (None, 75)                11325     \n",
      "                                                                 \n",
      " dense_3 (Dense)             (None, 9)                 684       \n",
      "                                                                 \n",
      "=================================================================\n",
      "Total params: 38,160,755\n",
      "Trainable params: 38,160,755\n",
      "Non-trainable params: 0\n",
      "_________________________________________________________________\n"
     ]
    }
   ],
   "source": [
    "model.summary()"
   ]
  },
  {
   "cell_type": "code",
   "execution_count": 27,
   "id": "e38118c6",
   "metadata": {},
   "outputs": [
    {
     "name": "stdout",
     "output_type": "stream",
     "text": [
      " Volume in drive D is New Volume\n",
      " Volume Serial Number is EC91-2482\n",
      "\n",
      " Directory of D:\\Plant Disease\n",
      "\n",
      "19-07-2022  12:17    <DIR>          .\n",
      "19-07-2022  12:17    <DIR>          ..\n",
      "18-07-2022  18:35    <DIR>          Dataset Plant Disease\n",
      "18-07-2022  18:03    <DIR>          flask\n",
      "19-07-2022  11:17        61,030,792 fruit.h5\n",
      "19-07-2022  09:38    <DIR>          Ibm training files\n",
      "19-07-2022  11:41           215,828 my notes.docx\n",
      "18-07-2022  18:04    <DIR>          training files\n",
      "19-07-2022  12:18       457,981,032 vegetable.h5\n",
      "               3 File(s)    519,227,652 bytes\n",
      "               6 Dir(s)  436,252,516,352 bytes free\n"
     ]
    }
   ],
   "source": [
    "ls"
   ]
  },
  {
   "cell_type": "code",
   "execution_count": 28,
   "id": "2e75348e",
   "metadata": {},
   "outputs": [],
   "source": [
    "from tensorflow.keras.preprocessing import image\n",
    "from tensorflow.keras.preprocessing.image import img_to_array\n",
    "from tensorflow.keras.models import load_model\n",
    "import numpy as np"
   ]
  },
  {
   "cell_type": "code",
   "execution_count": 29,
   "id": "b670809b",
   "metadata": {},
   "outputs": [],
   "source": [
    "model=load_model('vegetable.h5')"
   ]
  },
  {
   "cell_type": "code",
   "execution_count": 30,
   "id": "7d858be9",
   "metadata": {},
   "outputs": [],
   "source": [
    "img = image.load_img(r\"D:\\\\Plant Disease/Dataset Plant Disease\\Veg-dataset\\test_set\\Tomato___Leaf_Mold/ad0bafb5-fc74-49b6-9626-4c2ae34bdb26___Crnl_L.Mold 8872.JPG\",target_size=(128,128))"
   ]
  },
  {
   "cell_type": "code",
   "execution_count": 31,
   "id": "e1684e25",
   "metadata": {},
   "outputs": [
    {
     "data": {
      "image/png": "[encoded data removed]",
      "text/plain": [
       "<PIL.Image.Image image mode=RGB size=128x128 at 0x235805B3FD0>"
      ]
     },
     "execution_count": 31,
     "metadata": {},
     "output_type": "execute_result"
    }
   ],
   "source": [
    "img"
   ]
  },
  {
   "cell_type": "code",
   "execution_count": 32,
   "id": "3da1542c",
   "metadata": {},
   "outputs": [],
   "source": [
    "x=image.img_to_array(img)"
   ]
  },
  {
   "cell_type": "code",
   "execution_count": 33,
   "id": "b3314640",
   "metadata": {},
   "outputs": [],
   "source": [
    "x=np.expand_dims(x,axis=0)"
   ]
  },
  {
   "cell_type": "code",
   "execution_count": 34,
   "id": "eae92123",
   "metadata": {},
   "outputs": [
    {
     "name": "stdout",
     "output_type": "stream",
     "text": [
      "1/1 [==============================] - 6s 6s/step\n"
     ]
    }
   ],
   "source": [
    "y=np.argmax(model.predict(x),axis=1)"
   ]
  },
  {
   "cell_type": "code",
   "execution_count": 35,
   "id": "0f99b458",
   "metadata": {},
   "outputs": [
    {
     "data": {
      "text/plain": [
       "array([8], dtype=int64)"
      ]
     },
     "execution_count": 35,
     "metadata": {},
     "output_type": "execute_result"
    }
   ],
   "source": [
    "y"
   ]
  },
  {
   "cell_type": "code",
   "execution_count": 40,
   "id": "a7004225",
   "metadata": {},
   "outputs": [
    {
     "data": {
      "text/plain": [
       "{'Pepper,_bell___Bacterial_spot': 0,\n",
       " 'Pepper,_bell___healthy': 1,\n",
       " 'Potato___Early_blight': 2,\n",
       " 'Potato___Late_blight': 3,\n",
       " 'Potato___healthy': 4,\n",
       " 'Tomato___Bacterial_spot': 5,\n",
       " 'Tomato___Late_blight': 6,\n",
       " 'Tomato___Leaf_Mold': 7,\n",
       " 'Tomato___Septoria_leaf_spot': 8}"
      ]
     },
     "execution_count": 40,
     "metadata": {},
     "output_type": "execute_result"
    }
   ],
   "source": [
    "x_train.class_indices"
   ]
  },
  {
   "cell_type": "code",
   "execution_count": 37,
   "id": "f0fa827a",
   "metadata": {},
   "outputs": [],
   "source": [
    "index=['Pepper_bell___Bacterial_spot','Pepper_bell___healthy','Potato___Early_blight','Potato___Late_blight','Potato___healthy','Tomato___Bacterial_spot','Tomato___Late_blight','Tomato___Leaf_Mold','Tomato___Septoria_leaf_spot']"
   ]
  },
  {
   "cell_type": "code",
   "execution_count": 38,
   "id": "5d9bbf78",
   "metadata": {},
   "outputs": [
    {
     "data": {
      "text/plain": [
       "['Pepper,_bell___Bacterial_spot',\n",
       " 'Pepper,_bell___healthy',\n",
       " 'Potato___Early_blight',\n",
       " 'Potato___Late_blight',\n",
       " 'Potato___healthy',\n",
       " 'Tomato___Bacterial_spot',\n",
       " 'Tomato___Late_blight',\n",
       " 'Tomato___Leaf_Mold',\n",
       " 'Tomato___Septoria_leaf_spot']"
      ]
     },
     "execution_count": 38,
     "metadata": {},
     "output_type": "execute_result"
    }
   ],
   "source": [
    "index"
   ]
  },
  {
   "cell_type": "code",
   "execution_count": 41,
   "id": "f45de719",
   "metadata": {},
   "outputs": [
    {
     "data": {
      "text/plain": [
       "'Tomato___Septoria_leaf_spot'"
      ]
     },
     "execution_count": 41,
     "metadata": {},
     "output_type": "execute_result"
    }
   ],
   "source": [
    "index[y[0]]"
   ]
  },
  {
   "cell_type": "code",
   "execution_count": 42,
   "id": "225a55bb",
   "metadata": {},
   "outputs": [
    {
     "name": "stdout",
     "output_type": "stream",
     "text": [
      "1/1 [==============================] - 0s 125ms/step\n"
     ]
    },
    {
     "data": {
      "text/plain": [
       "'Tomato___Septoria_leaf_spot'"
      ]
     },
     "execution_count": 42,
     "metadata": {},
     "output_type": "execute_result"
    }
   ],
   "source": [
    "img=image.load_img(r\"D:\\\\Plant Disease/Dataset Plant Disease\\Veg-dataset\\test_set\\Potato___Early_blight\\c03a3f69-00b7-4aa5-a49f-794416af0598___RS_Early.B 8112.JPG\",target_size=(128,128))\n",
    "x=image.img_to_array(img)\n",
    "x=np.expand_dims(x,axis=0)\n",
    "y=np.argmax(model.predict(x),axis=1)\n",
    "index=['Pepper_bell___Bacterial_spot','Pepper_bell___healthy','Potato___Early_blight','Potato___Late_blight','Potato___healthy','Tomato___Bacterial_spot','Tomato___Late_blight','Tomato___Leaf_Mold','Tomato___Septoria_leaf_spot']\n",
    "index[y[0]]"
   ]
  },
  {
   "cell_type": "code",
   "execution_count": 43,
   "id": "2108d96e",
   "metadata": {},
   "outputs": [
    {
     "name": "stdout",
     "output_type": "stream",
     "text": [
      "1/1 [==============================] - 0s 203ms/step\n"
     ]
    },
    {
     "data": {
      "text/plain": [
       "'Tomato___Septoria_leaf_spot'"
      ]
     },
     "execution_count": 43,
     "metadata": {},
     "output_type": "execute_result"
    }
   ],
   "source": [
    "img=image.load_img(r\"D:\\\\Plant Disease/Dataset Plant Disease\\Veg-dataset\\test_set\\Potato___Early_blight\\fe24f700-d37f-4e51-b07c-931e8c3ded81___RS_Early.B 8792.JPG\",target_size=(128,128))\n",
    "x=image.img_to_array(img)\n",
    "x=np.expand_dims(x,axis=0)\n",
    "y=np.argmax(model.predict(x),axis=1)\n",
    "index=['Pepper_bell___Bacterial_spot','Pepper_bell___healthy','Potato___Early_blight','Potato___Late_blight','Potato___healthy','Tomato___Bacterial_spot','Tomato___Late_blight','Tomato___Leaf_Mold','Tomato___Septoria_leaf_spot']\n",
    "index[y[0]]"
   ]
  },
  {
   "cell_type": "code",
   "execution_count": 44,
   "id": "d6c6f5af",
   "metadata": {},
   "outputs": [
    {
     "name": "stdout",
     "output_type": "stream",
     "text": [
      "1/1 [==============================] - 0s 156ms/step\n"
     ]
    },
    {
     "data": {
      "text/plain": [
       "'Pepper_bell___Bacterial_spot'"
      ]
     },
     "execution_count": 44,
     "metadata": {},
     "output_type": "execute_result"
    }
   ],
   "source": [
    "img=image.load_img(r\"D:\\\\Plant Disease/Dataset Plant Disease\\Veg-dataset\\test_set\\Pepper_bell___Bacterial_spot\\ae40949c-47ac-49ce-9a5d-00e15fa79d66___NREC_B.Spot 1785.JPG\",target_size=(128,128))\n",
    "x=image.img_to_array(img)\n",
    "x=np.expand_dims(x,axis=0)\n",
    "y=np.argmax(model.predict(x),axis=1)\n",
    "index=['Pepper_bell___Bacterial_spot','Pepper_bell___healthy','Potato___Early_blight','Potato___Late_blight','Potato___healthy','Tomato___Bacterial_spot','Tomato___Late_blight','Tomato___Leaf_Mold','Tomato___Septoria_leaf_spot']\n",
    "index[y[0]]"
   ]
  },
  {
   "cell_type": "code",
   "execution_count": null,
   "id": "f0224b3b",
   "metadata": {},
   "outputs": [],
   "source": []
  }
 ],
 "metadata": {
  "kernelspec": {
   "display_name": "Python 3 (ipykernel)",
   "language": "python",
   "name": "python3"
  },
  "language_info": {
   "codemirror_mode": {
    "name": "ipython",
    "version": 3
   },
   "file_extension": ".py",
   "mimetype": "text/x-python",
   "name": "python",
   "nbconvert_exporter": "python",
   "pygments_lexer": "ipython3",
   "version": "3.9.12"
  }
 },
 "nbformat": 4,
 "nbformat_minor": 5
}
